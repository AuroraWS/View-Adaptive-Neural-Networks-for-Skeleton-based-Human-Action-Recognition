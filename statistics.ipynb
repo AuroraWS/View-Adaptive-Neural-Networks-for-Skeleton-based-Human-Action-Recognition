{
  "nbformat": 4,
  "nbformat_minor": 0,
  "metadata": {
    "colab": {
      "provenance": [],
      "machine_shape": "hm",
      "gpuType": "A100",
      "mount_file_id": "1adHEuzLEMjZbFBTAEjpxqeFkOg5XlcKX",
      "authorship_tag": "ABX9TyMOjM2SOAI91/pb/uyWaC+Y",
      "include_colab_link": true
    },
    "kernelspec": {
      "name": "python3",
      "display_name": "Python 3"
    },
    "language_info": {
      "name": "python"
    },
    "accelerator": "GPU"
  },
  "cells": [
    {
      "cell_type": "markdown",
      "metadata": {
        "id": "view-in-github",
        "colab_type": "text"
      },
      "source": [
        "<a href=\"https://colab.research.google.com/github/AuroraWS/View-Adaptive-Neural-Networks-for-Skeleton-based-Human-Action-Recognition/blob/master/statistics.ipynb\" target=\"_parent\"><img src=\"https://colab.research.google.com/assets/colab-badge.svg\" alt=\"Open In Colab\"/></a>"
      ]
    },
    {
      "cell_type": "code",
      "execution_count": 3,
      "metadata": {
        "colab": {
          "base_uri": "https://localhost:8080/"
        },
        "id": "wF_VZS9lmUDm",
        "outputId": "18414090-a3d9-4a78-db59-c191124f8a5f"
      },
      "outputs": [
        {
          "output_type": "stream",
          "name": "stdout",
          "text": [
            "Current Working Directory:  /content/drive/Othercomputers/我的笔记本电脑/View-Adaptive-Neural-Networks-for-Skeleton-based-Human-Action-Recognition/data/ntu\n",
            "1 (113945, 300, 150)\n",
            "-----------------------\n",
            "(38122, 300, 150)\n",
            "One sample of twice faster test [[0.2181153 0.1725972 3.785547  ... 0.        0.        0.       ]\n",
            " [0.        0.        0.        ... 0.        0.        0.       ]\n",
            " [0.2182214 0.1738454 3.790635  ... 0.        0.        0.       ]\n",
            " ...\n",
            " [0.        0.        0.        ... 0.        0.        0.       ]\n",
            " [0.        0.        0.        ... 0.        0.        0.       ]\n",
            " [0.        0.        0.        ... 0.        0.        0.       ]]\n",
            "NTU_CV_og_traintrain_2test.h5 is opened.\n",
            "training set: (72031, 300, 150)\n",
            "evaluation set: (3792, 300, 150)\n",
            "testing set: (38122, 300, 150)\n",
            "Split dataset success\n",
            "-----------------------\n"
          ]
        }
      ],
      "source": [
        "# For CNN-based model without view adaptation module\n",
        "base_path2 = '/content/drive/Othercomputers/我的笔记本电脑/View-Adaptive-Neural-Networks-for-Skeleton-based-Human-Action-Recognition/data/ntu'\n",
        "import os\n",
        "\n",
        "# 更改当前工作目录\n",
        "os.chdir(base_path2)\n",
        "\n",
        "# 确认当前工作目录\n",
        "print(\"Current Working Directory: \", os.getcwd())\n",
        "\n",
        "# 启用同步模式，这样可以更容易地定位错误：\n",
        "os.environ['CUDA_LAUNCH_BLOCKING'] = '1'\n",
        "\n",
        "# 运行Python脚本:change the test dataset to various to test models's motion-speed robustness\n",
        "!python seq_transformation.py --speed_train og_train --vali_sampling og_vali --various_test 2\n",
        "\n"
      ]
    },
    {
      "cell_type": "code",
      "source": [
        "base_path = '/content/drive/Othercomputers/我的笔记本电脑/View-Adaptive-Neural-Networks-for-Skeleton-based-Human-Action-Recognition'\n",
        "# 更改当前工作目录\n",
        "import os\n",
        "os.chdir(base_path)\n",
        "# test the cnn model trained on original dataset's performance on twice faster testing set\n",
        "!python va-cnn.py --model baseline --aug 1 --train 0"
      ],
      "metadata": {
        "colab": {
          "base_uri": "https://localhost:8080/"
        },
        "id": "ip8OYuCmSDmo",
        "outputId": "1aeb3b9c-fd80-4081-ae24-04c5c0c01d44"
      },
      "execution_count": 12,
      "outputs": [
        {
          "output_type": "stream",
          "name": "stdout",
          "text": [
            "/usr/local/lib/python3.10/dist-packages/torch/optim/lr_scheduler.py:28: UserWarning: The verbose parameter is deprecated. Please use get_last_lr() to access the learning rate.\n",
            "  warnings.warn(\"The verbose parameter is deprecated. Please use get_last_lr() \"\n",
            "Train on 75823 samples, validate on 3792 samples\n",
            "checkpoint1:./results/VA-CNN/NTU/baseline/1_best.pth\n",
            "checkpoint:./results/VA-CNN/NTU/baseline/1_best.pth\n",
            "Model Accuracy:1.64\n",
            "[1.64]\n",
            "ave: 1.64\n"
          ]
        }
      ]
    },
    {
      "cell_type": "code",
      "source": [
        "base_path = '/content/drive/Othercomputers/我的笔记本电脑/View-Adaptive-Neural-Networks-for-Skeleton-based-Human-Action-Recognition'\n",
        "# 更改当前工作目录\n",
        "import os\n",
        "os.chdir(base_path)\n",
        "# test the cnn model trained on original dataset's performance on twice faster testing set\n",
        "!python va-cnn.py --model baseline --aug 1 --train 0"
      ],
      "metadata": {
        "id": "ECSXqvqhmcDx"
      },
      "execution_count": null,
      "outputs": []
    },
    {
      "cell_type": "markdown",
      "source": [],
      "metadata": {
        "id": "PDJDAxonnW_u"
      }
    },
    {
      "cell_type": "markdown",
      "source": [],
      "metadata": {
        "id": "YkBDDmmqdx4j"
      }
    }
  ]
}