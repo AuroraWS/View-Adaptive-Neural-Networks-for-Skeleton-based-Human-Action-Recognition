{
  "nbformat": 4,
  "nbformat_minor": 0,
  "metadata": {
    "colab": {
      "provenance": [],
      "machine_shape": "hm",
      "mount_file_id": "1adHEuzLEMjZbFBTAEjpxqeFkOg5XlcKX",
      "authorship_tag": "ABX9TyMma4/nCqGZ4nA8+wlN/yWi",
      "include_colab_link": true
    },
    "kernelspec": {
      "name": "python3",
      "display_name": "Python 3"
    },
    "language_info": {
      "name": "python"
    }
  },
  "cells": [
    {
      "cell_type": "markdown",
      "metadata": {
        "id": "view-in-github",
        "colab_type": "text"
      },
      "source": [
        "<a href=\"https://colab.research.google.com/github/AuroraWS/View-Adaptive-Neural-Networks-for-Skeleton-based-Human-Action-Recognition/blob/master/statistics.ipynb\" target=\"_parent\"><img src=\"https://colab.research.google.com/assets/colab-badge.svg\" alt=\"Open In Colab\"/></a>"
      ]
    },
    {
      "cell_type": "code",
      "execution_count": null,
      "metadata": {
        "colab": {
          "base_uri": "https://localhost:8080/"
        },
        "id": "wF_VZS9lmUDm",
        "outputId": "5bed8dbb-eb3a-4867-f31c-e0de25f6f0ce"
      },
      "outputs": [
        {
          "output_type": "stream",
          "name": "stdout",
          "text": [
            "Current Working Directory:  /content/drive/Othercomputers/我的笔记本电脑/View-Adaptive-Neural-Networks-for-Skeleton-based-Human-Action-Recognition/data/ntu\n",
            "1 (113945, 600, 150)\n"
          ]
        }
      ],
      "source": [
        "# For CNN-based model without view adaptation module\n",
        "base_path2 = '/content/drive/Othercomputers/我的笔记本电脑/View-Adaptive-Neural-Networks-for-Skeleton-based-Human-Action-Recognition/data/ntu'\n",
        "import os\n",
        "\n",
        "# 更改当前工作目录\n",
        "os.chdir(base_path2)\n",
        "\n",
        "# 确认当前工作目录\n",
        "print(\"Current Working Directory: \", os.getcwd())\n",
        "\n",
        "# 启用同步模式，这样可以更容易地定位错误：\n",
        "os.environ['CUDA_LAUNCH_BLOCKING'] = '1'\n",
        "\n",
        "# 运行Python脚本:change the test dataset to various to test models's motion-speed robustness\n",
        "!python seq_transformation.py --speed_train og_train --vali_sampling og_vali --various_test 2\n",
        "\n"
      ]
    },
    {
      "cell_type": "code",
      "source": [
        "# Test baseling model trained on original speed training set on a twice faster testing set\n",
        "!python  va-cnn.py --model baseline --aug 1 --train 0"
      ],
      "metadata": {
        "colab": {
          "base_uri": "https://localhost:8080/"
        },
        "id": "2lAssgcr77OX",
        "outputId": "b6d8b4d7-acf6-44e3-9bfa-2bd7054f19c4"
      },
      "execution_count": 19,
      "outputs": [
        {
          "output_type": "stream",
          "name": "stdout",
          "text": [
            "python3: can't open file '/content/drive/Othercomputers/我的笔记本电脑/View-Adaptive-Neural-Networks-for-Skeleton-based-Human-Action-Recognition/data/ntu/va-cnn.py': [Errno 2] No such file or directory\n"
          ]
        }
      ]
    },
    {
      "cell_type": "code",
      "source": [],
      "metadata": {
        "id": "3ADGLfNr8k_l"
      },
      "execution_count": null,
      "outputs": []
    },
    {
      "cell_type": "markdown",
      "source": [],
      "metadata": {
        "id": "PDJDAxonnW_u"
      }
    },
    {
      "cell_type": "markdown",
      "source": [],
      "metadata": {
        "id": "YkBDDmmqdx4j"
      }
    }
  ]
}